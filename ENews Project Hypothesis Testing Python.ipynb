{
 "cells": [
  {
   "cell_type": "markdown",
   "id": "6yDxo9u0d9Na",
   "metadata": {
    "id": "6yDxo9u0d9Na"
   },
   "source": [
    "# Project Business Statistics: E-news Express\n",
    "\n",
    "**Marks: 60**\n",
    "by Brigitte Weisser"
   ]
  },
  {
   "cell_type": "markdown",
   "id": "SrLd-ICEmPSD",
   "metadata": {
    "id": "SrLd-ICEmPSD"
   },
   "source": [
    "## Define Problem Statement and Objectives"
   ]
  },
  {
   "cell_type": "markdown",
   "id": "9Vt1PLLqmXNn",
   "metadata": {
    "id": "9Vt1PLLqmXNn"
   },
   "source": [
    "The online news portal E-news Express aims to expand its business by acquiring new subscribers. Every visitor to the website takes certain actions based on their interest. The design team of the company has created a new landing page and we have to decide whether the new landing page is more effective to gather new subscribers than the old one.\n",
    "\n",
    "In order to do this, 100 users were randomly selected and divided equally into two groups to do a/b testing. The old landing page is served to the first group (control group) and the new landing page is served to the second group (treatment group). Various data about the customers in both groups is collected. Based on this data we will perform Exploratory Data Analysis and we will also perform the statistical analysis to answer the questions below using the collected data.\n",
    "\n",
    "We will conclude with a recommondation about whether E-news Express should permanently switch to the new landing page."
   ]
  },
  {
   "cell_type": "markdown",
   "id": "a6a3d218",
   "metadata": {
    "id": "a6a3d218"
   },
   "source": [
    "## Import all the necessary libraries"
   ]
  },
  {
   "cell_type": "code",
   "execution_count": 1,
   "id": "658c5dec",
   "metadata": {
    "id": "658c5dec"
   },
   "outputs": [],
   "source": [
    "import numpy as np\n",
    "import pandas as pd\n",
    "from matplotlib import pyplot as plt\n",
    "import seaborn as sns"
   ]
  },
  {
   "cell_type": "markdown",
   "id": "9d75cfa2",
   "metadata": {
    "id": "9d75cfa2"
   },
   "source": [
    "## 1. Explore the dataset and extract insights using Exploratory Data Analysis. (10 Marks)"
   ]
  },
  {
   "cell_type": "markdown",
   "id": "27201534",
   "metadata": {
    "id": "27201534"
   },
   "source": [
    "### Exploratory Data Analysis - Step by step approach\n",
    "\n",
    "Typical Data exploration activity consists of the following steps:\n",
    "1.\tImporting Data\n",
    "2.\tVariable Identification\n",
    "3.  Variable Transformation/Feature Creation\n",
    "4.  Missing value detection\n",
    "5.\tUnivariate Analysis\n",
    "6.\tBivariate Analysis"
   ]
  },
  {
   "cell_type": "markdown",
   "id": "6970dd99",
   "metadata": {
    "id": "6970dd99"
   },
   "source": [
    "### 1.1 Reading the Data into a DataFrame"
   ]
  },
  {
   "cell_type": "code",
   "execution_count": 2,
   "id": "d3b95640",
   "metadata": {
    "id": "d3b95640"
   },
   "outputs": [],
   "source": [
    "# write the code for reading the dataset abtest.csv\n",
    "df = pd.read_csv('abtest.csv') # read the data"
   ]
  },
  {
   "cell_type": "markdown",
   "id": "a4e471fd",
   "metadata": {
    "id": "a4e471fd"
   },
   "source": [
    "### 1.2 Data Overview\n",
    "- View a few rows of the data frame.\n",
    "- Check the shape and data types of the data frame. Add observations.\n",
    "- Fix the data-types (if needed).\n",
    "- Missing Value Check.\n",
    "- Summary statistics from the data frame. Add observations."
   ]
  },
  {
   "cell_type": "code",
   "execution_count": 3,
   "id": "e1ad11d4",
   "metadata": {
    "id": "e1ad11d4"
   },
   "outputs": [
    {
     "data": {
      "text/html": [
       "<div>\n",
       "<style scoped>\n",
       "    .dataframe tbody tr th:only-of-type {\n",
       "        vertical-align: middle;\n",
       "    }\n",
       "\n",
       "    .dataframe tbody tr th {\n",
       "        vertical-align: top;\n",
       "    }\n",
       "\n",
       "    .dataframe thead th {\n",
       "        text-align: right;\n",
       "    }\n",
       "</style>\n",
       "<table border=\"1\" class=\"dataframe\">\n",
       "  <thead>\n",
       "    <tr style=\"text-align: right;\">\n",
       "      <th></th>\n",
       "      <th>user_id</th>\n",
       "      <th>group</th>\n",
       "      <th>landing_page</th>\n",
       "      <th>time_spent_on_the_page</th>\n",
       "      <th>converted</th>\n",
       "      <th>language_preferred</th>\n",
       "    </tr>\n",
       "  </thead>\n",
       "  <tbody>\n",
       "    <tr>\n",
       "      <th>0</th>\n",
       "      <td>546592</td>\n",
       "      <td>control</td>\n",
       "      <td>old</td>\n",
       "      <td>3.48</td>\n",
       "      <td>no</td>\n",
       "      <td>Spanish</td>\n",
       "    </tr>\n",
       "    <tr>\n",
       "      <th>1</th>\n",
       "      <td>546468</td>\n",
       "      <td>treatment</td>\n",
       "      <td>new</td>\n",
       "      <td>7.13</td>\n",
       "      <td>yes</td>\n",
       "      <td>English</td>\n",
       "    </tr>\n",
       "    <tr>\n",
       "      <th>2</th>\n",
       "      <td>546462</td>\n",
       "      <td>treatment</td>\n",
       "      <td>new</td>\n",
       "      <td>4.40</td>\n",
       "      <td>no</td>\n",
       "      <td>Spanish</td>\n",
       "    </tr>\n",
       "    <tr>\n",
       "      <th>3</th>\n",
       "      <td>546567</td>\n",
       "      <td>control</td>\n",
       "      <td>old</td>\n",
       "      <td>3.02</td>\n",
       "      <td>no</td>\n",
       "      <td>French</td>\n",
       "    </tr>\n",
       "    <tr>\n",
       "      <th>4</th>\n",
       "      <td>546459</td>\n",
       "      <td>treatment</td>\n",
       "      <td>new</td>\n",
       "      <td>4.75</td>\n",
       "      <td>yes</td>\n",
       "      <td>Spanish</td>\n",
       "    </tr>\n",
       "  </tbody>\n",
       "</table>\n",
       "</div>"
      ],
      "text/plain": [
       "   user_id      group landing_page  time_spent_on_the_page converted  \\\n",
       "0   546592    control          old                    3.48        no   \n",
       "1   546468  treatment          new                    7.13       yes   \n",
       "2   546462  treatment          new                    4.40        no   \n",
       "3   546567    control          old                    3.02        no   \n",
       "4   546459  treatment          new                    4.75       yes   \n",
       "\n",
       "  language_preferred  \n",
       "0            Spanish  \n",
       "1            English  \n",
       "2            Spanish  \n",
       "3             French  \n",
       "4            Spanish  "
      ]
     },
     "execution_count": 3,
     "metadata": {},
     "output_type": "execute_result"
    }
   ],
   "source": [
    "df.head() # returns the first 5 rows"
   ]
  },
  {
   "cell_type": "code",
   "execution_count": 4,
   "id": "d5132868",
   "metadata": {},
   "outputs": [
    {
     "data": {
      "text/plain": [
       "(100, 6)"
      ]
     },
     "execution_count": 4,
     "metadata": {},
     "output_type": "execute_result"
    }
   ],
   "source": [
    "df.shape #number of columns and rows"
   ]
  },
  {
   "cell_type": "code",
   "execution_count": 5,
   "id": "633febef",
   "metadata": {},
   "outputs": [
    {
     "name": "stdout",
     "output_type": "stream",
     "text": [
      "<class 'pandas.core.frame.DataFrame'>\n",
      "RangeIndex: 100 entries, 0 to 99\n",
      "Data columns (total 6 columns):\n",
      " #   Column                  Non-Null Count  Dtype  \n",
      "---  ------                  --------------  -----  \n",
      " 0   user_id                 100 non-null    int64  \n",
      " 1   group                   100 non-null    object \n",
      " 2   landing_page            100 non-null    object \n",
      " 3   time_spent_on_the_page  100 non-null    float64\n",
      " 4   converted               100 non-null    object \n",
      " 5   language_preferred      100 non-null    object \n",
      "dtypes: float64(1), int64(1), object(4)\n",
      "memory usage: 4.8+ KB\n"
     ]
    }
   ],
   "source": [
    "df.info() #data types"
   ]
  },
  {
   "cell_type": "code",
   "execution_count": 6,
   "id": "8a11ce41",
   "metadata": {},
   "outputs": [
    {
     "data": {
      "text/plain": [
       "user_id                   0\n",
       "group                     0\n",
       "landing_page              0\n",
       "time_spent_on_the_page    0\n",
       "converted                 0\n",
       "language_preferred        0\n",
       "dtype: int64"
      ]
     },
     "execution_count": 6,
     "metadata": {},
     "output_type": "execute_result"
    }
   ],
   "source": [
    "df.isnull().sum() #is data clean or are there missing values?"
   ]
  },
  {
   "cell_type": "code",
   "execution_count": 7,
   "id": "1da9b574",
   "metadata": {},
   "outputs": [
    {
     "data": {
      "text/plain": [
       "100"
      ]
     },
     "execution_count": 7,
     "metadata": {},
     "output_type": "execute_result"
    }
   ],
   "source": [
    "df['user_id'].unique().shape[0] # How many unique user_id's to see if there are there doubles?"
   ]
  },
  {
   "cell_type": "code",
   "execution_count": 8,
   "id": "ab68fb13",
   "metadata": {},
   "outputs": [
    {
     "data": {
      "text/plain": [
       "treatment    50\n",
       "control      50\n",
       "Name: group, dtype: int64"
      ]
     },
     "execution_count": 8,
     "metadata": {},
     "output_type": "execute_result"
    }
   ],
   "source": [
    "df['group'].value_counts() # Values for group"
   ]
  },
  {
   "cell_type": "code",
   "execution_count": 9,
   "id": "e272a5f4",
   "metadata": {},
   "outputs": [
    {
     "data": {
      "text/plain": [
       "old    50\n",
       "new    50\n",
       "Name: landing_page, dtype: int64"
      ]
     },
     "execution_count": 9,
     "metadata": {},
     "output_type": "execute_result"
    }
   ],
   "source": [
    "df['landing_page'].value_counts() # Values for landing_page"
   ]
  },
  {
   "cell_type": "code",
   "execution_count": 10,
   "id": "d4b7e801",
   "metadata": {},
   "outputs": [
    {
     "data": {
      "text/plain": [
       "yes    54\n",
       "no     46\n",
       "Name: converted, dtype: int64"
      ]
     },
     "execution_count": 10,
     "metadata": {},
     "output_type": "execute_result"
    }
   ],
   "source": [
    "df['converted'].value_counts() # Values for converted"
   ]
  },
  {
   "cell_type": "code",
   "execution_count": 11,
   "id": "4296819b",
   "metadata": {},
   "outputs": [
    {
     "data": {
      "text/plain": [
       "Spanish    34\n",
       "French     34\n",
       "English    32\n",
       "Name: language_preferred, dtype: int64"
      ]
     },
     "execution_count": 11,
     "metadata": {},
     "output_type": "execute_result"
    }
   ],
   "source": [
    "df['language_preferred'].value_counts() # Values for language_preferred"
   ]
  },
  {
   "cell_type": "code",
   "execution_count": 12,
   "id": "a615ab64",
   "metadata": {},
   "outputs": [
    {
     "name": "stdout",
     "output_type": "stream",
     "text": [
      "control    50\n",
      "Name: group, dtype: int64\n"
     ]
    },
    {
     "data": {
      "text/plain": [
       "treatment    50\n",
       "Name: group, dtype: int64"
      ]
     },
     "execution_count": 12,
     "metadata": {},
     "output_type": "execute_result"
    }
   ],
   "source": [
    "# confirming landing_page and group have corresponding values old->control and new->treatment\n",
    "print(df[df['landing_page']=='old']['group'].value_counts())\n",
    "df[df['landing_page']=='new']['group'].value_counts()"
   ]
  },
  {
   "cell_type": "code",
   "execution_count": 13,
   "id": "9818e260",
   "metadata": {},
   "outputs": [
    {
     "data": {
      "text/plain": [
       "count    100.00\n",
       "mean       5.38\n",
       "std        2.38\n",
       "min        0.19\n",
       "25%        3.88\n",
       "50%        5.42\n",
       "75%        7.02\n",
       "max       10.71\n",
       "Name: time_spent_on_the_page, dtype: float64"
      ]
     },
     "execution_count": 13,
     "metadata": {},
     "output_type": "execute_result"
    }
   ],
   "source": [
    "#statistics for time_spent_on_page\n",
    "round(df['time_spent_on_the_page'].describe(),2)"
   ]
  },
  {
   "cell_type": "markdown",
   "id": "66e08ed2",
   "metadata": {},
   "source": [
    "This gives us the following insights:\n",
    "\n",
    "### Dataset:\n",
    "\n",
    "The data set has 100 rows and 6 columns, there are no missing values.\n",
    "\n",
    "- **user_id:** This represents the user id of the person visiting the website.\n",
    "    - Data type Integer\n",
    "    - Unique Values\n",
    "- **group:** This represents whether the user belongs to the control group or the treatment group.\n",
    "    - Data type Object\n",
    "    - Values are 'control' (50) and 'treatment' (50).\n",
    "- **landing_page:** This represents whether the landing page is new or old.\n",
    "    - Data type Object\n",
    "    - The value is 'old' (50) if group is 'control' and 'new' (50) if group is 'treatment'.\n",
    "- **time_spent_on_the_page:** This represents the time (in minutes) spent by the user on the landing page.\n",
    "    - Data type Float\n",
    "    - Values are between 0.19 and 10.71\n",
    "- **converted** This represents whether the user gets converted to a subscriber of the news portal or not.\n",
    "    - Data type Object\n",
    "    - Values are 'yes' (54) and 'no' (46)\n",
    "- **language_preferred:** This represents the language chosen by the user to view the landing page.\n",
    "    - Data type Object\n",
    "    - Values are 'Spanish' (34), 'English' (34), 'French' (32)\n",
    "    \n",
    "Since this is a small set of data, we don't need to worry about memory or runtime and there is no need for data type Object to be converted to Category.\n",
    "    \n"
   ]
  },
  {
   "cell_type": "markdown",
   "id": "68f3b2c9",
   "metadata": {
    "id": "68f3b2c9"
   },
   "source": [
    "### 1.3 Univariate Analysis\n",
    "\n",
    "Since customer id is a unique number assigned to each person from our sample and landing page is corresponding one on one with group as shown above, customer id and landing page won't be included in the analysis below. "
   ]
  },
  {
   "cell_type": "code",
   "execution_count": 14,
   "id": "2fce6350",
   "metadata": {
    "id": "2fce6350"
   },
   "outputs": [],
   "source": [
    "# given function to create labeled barplots\n",
    "def labeled_barplot(data, feature, perc=False, n=None):\n",
    "    \"\"\"\n",
    "    Barplot with percentage at the top\n",
    "\n",
    "    data: dataframe\n",
    "    feature: dataframe column\n",
    "    perc: whether to display percentages instead of count (default is False)\n",
    "    n: displays the top n category levels (default is None, i.e., display all levels)\n",
    "    \"\"\"\n",
    "\n",
    "    total = len(data[feature])  # length of the column\n",
    "    count = data[feature].nunique()\n",
    "    if n is None:\n",
    "        plt.figure(figsize=(count + 1, 5))\n",
    "    else:\n",
    "        plt.figure(figsize=(n + 1, 5))\n",
    "\n",
    "    plt.xticks(rotation=90, fontsize=15)\n",
    "    ax = sns.countplot(data=data, x=feature, palette=\"Paired\", order=data[feature].value_counts().index[:n].sort_values())\n",
    "\n",
    "    for p in ax.patches:\n",
    "        if perc == True:\n",
    "            label = \"{:.1f}%\".format(100 * p.get_height() / total)  # percentage of each class of the category\n",
    "        else:\n",
    "            label = p.get_height()  # count of each level of the category\n",
    "\n",
    "        x = p.get_x() + p.get_width() / 2  # width of the plot\n",
    "        y = p.get_height()      # height of the plot\n",
    "\n",
    "        ax.annotate(label, (x, y), ha=\"center\", va=\"center\", size=12, xytext=(0, 5), textcoords=\"offset points\")  # annotate the percentage\n",
    "\n",
    "    plt.show()  # show the plot"
   ]
  },
  {
   "cell_type": "markdown",
   "id": "08cd6cd9",
   "metadata": {},
   "source": [
    "### 1.3.1 Group"
   ]
  },
  {
   "cell_type": "code",
   "execution_count": 15,
   "id": "e6f99481",
   "metadata": {
    "id": "e6f99481"
   },
   "outputs": [
    {
     "data": {
      "image/png": "[encoded data removed]",
      "text/plain": [
       "<Figure size 216x360 with 1 Axes>"
      ]
     },
     "metadata": {
      "needs_background": "light"
     },
     "output_type": "display_data"
    }
   ],
   "source": [
    "labeled_barplot(df, 'group')"
   ]
  },
  {
   "cell_type": "markdown",
   "id": "f6744fce",
   "metadata": {},
   "source": [
    "#### Observations about Group\n",
    "50 people are in the control group vs. 50 who are in the treatment group.\n",
    "\n",
    "### 1.3.2 Convertion"
   ]
  },
  {
   "cell_type": "code",
   "execution_count": 16,
   "id": "3580624b",
   "metadata": {},
   "outputs": [
    {
     "data": {
      "image/png": "[encoded data removed]",
      "text/plain": [
       "<Figure size 216x360 with 1 Axes>"
      ]
     },
     "metadata": {
      "needs_background": "light"
     },
     "output_type": "display_data"
    }
   ],
   "source": [
    "labeled_barplot(df, 'converted')"
   ]
  },
  {
   "cell_type": "markdown",
   "id": "5785c6d9",
   "metadata": {},
   "source": [
    "#### Observations about the Convertion\n",
    "54 people who landed on the page were converted vs. 46 who weren't. The conversion rate is 54%. \n",
    "\n",
    "### 1.3.3 Preferred language"
   ]
  },
  {
   "cell_type": "code",
   "execution_count": 17,
   "id": "94602a95",
   "metadata": {},
   "outputs": [
    {
     "data": {
      "image/png": "[encoded data removed]",
      "text/plain": [
       "<Figure size 288x360 with 1 Axes>"
      ]
     },
     "metadata": {
      "needs_background": "light"
     },
     "output_type": "display_data"
    }
   ],
   "source": [
    "labeled_barplot(df, 'language_preferred')"
   ]
  },
  {
   "cell_type": "markdown",
   "id": "07689dbc",
   "metadata": {},
   "source": [
    "#### Observations about Preferred Language\n",
    "32 people chose English to look at the page, 34 chose French and another 34 chose Spanish.\n",
    "\n",
    "### 1.3.4 Time spent on Page"
   ]
  },
  {
   "cell_type": "code",
   "execution_count": 18,
   "id": "a9816553",
   "metadata": {},
   "outputs": [
    {
     "data": {
      "image/png": "[encoded data removed]",
      "text/plain": [
       "<Figure size 1080x360 with 2 Axes>"
      ]
     },
     "metadata": {
      "needs_background": "light"
     },
     "output_type": "display_data"
    }
   ],
   "source": [
    "# plotting time_spent_on_page\n",
    "fig = plt.gcf()\n",
    "fig.set_size_inches(15,5) #plot size\n",
    "\n",
    "#left plot\n",
    "plt.subplot(1,2,1); \n",
    "plt.xlabel(\"time spent on page (minutes)\");\n",
    "sns.boxplot(data = df, x =df['time_spent_on_the_page']).set(xlabel=\"time spent on page (minutes)\");\n",
    "\n",
    "#right plot\n",
    "plt.subplot(1,2,2); \n",
    "plt.xlabel(\"time spent on page (minutes)\");\n",
    "plt.ylabel(\"number of people who landed on page\");\n",
    "plt.axvline(df['time_spent_on_the_page'].mean(), color='g', linewidth=2,label=\"Mean\");\n",
    "plt.axvline(df['time_spent_on_the_page'].median(), color='b', linestyle='dashed', linewidth=2,label=\"Median\");\n",
    "plt.legend()\n",
    "sns.histplot(df['time_spent_on_the_page'],bins=20,kde=\"kde\");"
   ]
  },
  {
   "cell_type": "code",
   "execution_count": 19,
   "id": "f034d6b9",
   "metadata": {},
   "outputs": [
    {
     "data": {
      "text/plain": [
       "-0.1494803722510636"
      ]
     },
     "execution_count": 19,
     "metadata": {},
     "output_type": "execute_result"
    }
   ],
   "source": [
    "df['time_spent_on_the_page'].skew() "
   ]
  },
  {
   "cell_type": "code",
   "execution_count": 20,
   "id": "e8b99b4c",
   "metadata": {},
   "outputs": [
    {
     "data": {
      "text/plain": [
       "count    100.000000\n",
       "mean       5.377800\n",
       "std        2.378166\n",
       "min        0.190000\n",
       "25%        3.880000\n",
       "50%        5.415000\n",
       "75%        7.022500\n",
       "max       10.710000\n",
       "Name: time_spent_on_the_page, dtype: float64"
      ]
     },
     "execution_count": 20,
     "metadata": {},
     "output_type": "execute_result"
    }
   ],
   "source": [
    "df['time_spent_on_the_page'].describe()"
   ]
  },
  {
   "cell_type": "markdown",
   "id": "beffc182",
   "metadata": {},
   "source": [
    "### Observations about Time spent on Page\n",
    "- The time spent on the page ranges from .19 to 10.71 minutes with an avarage time of 5.38 minutes and a mean of 5.12 minutes. \n",
    "- With a skewness of - 0.15 the distribution is approximately symetric."
   ]
  },
  {
   "cell_type": "markdown",
   "id": "fad2de2f",
   "metadata": {
    "id": "fad2de2f"
   },
   "source": [
    "## 1.4 Bivariate Analysis"
   ]
  },
  {
   "cell_type": "markdown",
   "id": "031ab49c",
   "metadata": {},
   "source": [
    "### 1.4.1 Group vs. Conversion Rate"
   ]
  },
  {
   "cell_type": "code",
   "execution_count": 21,
   "id": "636a0c55",
   "metadata": {},
   "outputs": [
    {
     "data": {
      "text/html": [
       "<div>\n",
       "<style scoped>\n",
       "    .dataframe tbody tr th:only-of-type {\n",
       "        vertical-align: middle;\n",
       "    }\n",
       "\n",
       "    .dataframe tbody tr th {\n",
       "        vertical-align: top;\n",
       "    }\n",
       "\n",
       "    .dataframe thead th {\n",
       "        text-align: right;\n",
       "    }\n",
       "</style>\n",
       "<table border=\"1\" class=\"dataframe\">\n",
       "  <thead>\n",
       "    <tr style=\"text-align: right;\">\n",
       "      <th></th>\n",
       "      <th>Conversion Rate</th>\n",
       "    </tr>\n",
       "    <tr>\n",
       "      <th>Group</th>\n",
       "      <th></th>\n",
       "    </tr>\n",
       "  </thead>\n",
       "  <tbody>\n",
       "    <tr>\n",
       "      <th>Control Group</th>\n",
       "      <td>42.0</td>\n",
       "    </tr>\n",
       "    <tr>\n",
       "      <th>Treatment Group</th>\n",
       "      <td>66.0</td>\n",
       "    </tr>\n",
       "  </tbody>\n",
       "</table>\n",
       "</div>"
      ],
      "text/plain": [
       "                 Conversion Rate\n",
       "Group                           \n",
       "Control Group               42.0\n",
       "Treatment Group             66.0"
      ]
     },
     "execution_count": 21,
     "metadata": {},
     "output_type": "execute_result"
    }
   ],
   "source": [
    "# Creating a table with conversion rate in percent (yes/(no+yes))*100) for both groups\n",
    "\n",
    "#calculating conversion rate for each group \n",
    "CR_C=round(df[df[\"group\"]==\"control\"]['converted'].value_counts(1).sort_index()[1]*100,1)\n",
    "CR_T=round(df[df[\"group\"]==\"treatment\"]['converted'].value_counts(1).sort_index()[1]*100,1)\n",
    "#.value_counts(1) percentage values\n",
    "#.sort_index()[1] makes this the yes-value in both groups\n",
    "\n",
    "#creating a data frame\n",
    "d = [ [\"Control Group\", CR_C],[\"Treatment Group\", CR_T]]\n",
    "df_group = pd.DataFrame(d, columns = ['Group','Conversion Rate'])\n",
    "df_group.set_index('Group')"
   ]
  },
  {
   "cell_type": "code",
   "execution_count": 22,
   "id": "773c6e4f",
   "metadata": {},
   "outputs": [
    {
     "data": {
      "image/png": "[encoded data removed]",
      "text/plain": [
       "<Figure size 432x288 with 1 Axes>"
      ]
     },
     "metadata": {
      "needs_background": "light"
     },
     "output_type": "display_data"
    }
   ],
   "source": [
    "#plotting it\n",
    "sns.barplot(x='Group',y='Conversion Rate',data=df_group, palette=\"Paired\").set(title='Conversion Rate in %');"
   ]
  },
  {
   "cell_type": "markdown",
   "id": "20b3fe5a",
   "metadata": {},
   "source": [
    "#### Observations:\n",
    "In the treatment group 66% of people were converted compared to 42% in the control group.\n"
   ]
  },
  {
   "cell_type": "markdown",
   "id": "a26cc9b9",
   "metadata": {},
   "source": [
    "### 1.4.2 Group vs. Language"
   ]
  },
  {
   "cell_type": "code",
   "execution_count": 23,
   "id": "16c04e6d",
   "metadata": {},
   "outputs": [
    {
     "data": {
      "image/png": "[encoded data removed]",
      "text/plain": [
       "<Figure size 432x288 with 1 Axes>"
      ]
     },
     "metadata": {
      "needs_background": "light"
     },
     "output_type": "display_data"
    }
   ],
   "source": [
    "sns.countplot(x ='group', data = df,hue='language_preferred', palette=\"Paired\");"
   ]
  },
  {
   "cell_type": "code",
   "execution_count": 24,
   "id": "a40b6af8",
   "metadata": {},
   "outputs": [
    {
     "name": "stdout",
     "output_type": "stream",
     "text": [
      "Spanish    17\n",
      "French     17\n",
      "English    16\n",
      "Name: language_preferred, dtype: int64\n"
     ]
    },
    {
     "data": {
      "text/plain": [
       "Spanish    17\n",
       "French     17\n",
       "English    16\n",
       "Name: language_preferred, dtype: int64"
      ]
     },
     "execution_count": 24,
     "metadata": {},
     "output_type": "execute_result"
    }
   ],
   "source": [
    "print(df[df[\"group\"]==\"control\"]['language_preferred'].value_counts())\n",
    "df[df[\"group\"]==\"treatment\"]['language_preferred'].value_counts()"
   ]
  },
  {
   "cell_type": "markdown",
   "id": "2b92f79e",
   "metadata": {},
   "source": [
    "#### Observations:\n",
    "- In both the control group and the treatment group we have 17 people who chose French, 17 who chose Spanish and 16 who chose English. \n",
    "- The fact that the ratio of preferred languages is the about the same over all data and and the exaxt same in the respective groups points to the data being purposefully picked by language as well as group.\n",
    "\n",
    "### 1.4.3 Conversion Rate vs. Language vs. Group\n",
    "We will only look at the conversion rate instead of the yes/no values to get a cleaner visual."
   ]
  },
  {
   "cell_type": "code",
   "execution_count": 25,
   "id": "601fa3cd",
   "metadata": {},
   "outputs": [
    {
     "name": "stdout",
     "output_type": "stream",
     "text": [
      "\n",
      "Conversion rate in percent for each language for all data and split into the control and treatment group\n"
     ]
    },
    {
     "data": {
      "text/html": [
       "<div>\n",
       "<style scoped>\n",
       "    .dataframe tbody tr th:only-of-type {\n",
       "        vertical-align: middle;\n",
       "    }\n",
       "\n",
       "    .dataframe tbody tr th {\n",
       "        vertical-align: top;\n",
       "    }\n",
       "\n",
       "    .dataframe thead th {\n",
       "        text-align: right;\n",
       "    }\n",
       "</style>\n",
       "<table border=\"1\" class=\"dataframe\">\n",
       "  <thead>\n",
       "    <tr style=\"text-align: right;\">\n",
       "      <th></th>\n",
       "      <th>All Data</th>\n",
       "      <th>Control Group</th>\n",
       "      <th>Treatment Group</th>\n",
       "    </tr>\n",
       "    <tr>\n",
       "      <th>Language</th>\n",
       "      <th></th>\n",
       "      <th></th>\n",
       "      <th></th>\n",
       "    </tr>\n",
       "  </thead>\n",
       "  <tbody>\n",
       "    <tr>\n",
       "      <th>Spanish</th>\n",
       "      <td>52.9</td>\n",
       "      <td>41.2</td>\n",
       "      <td>64.7</td>\n",
       "    </tr>\n",
       "    <tr>\n",
       "      <th>English</th>\n",
       "      <td>65.6</td>\n",
       "      <td>68.8</td>\n",
       "      <td>62.5</td>\n",
       "    </tr>\n",
       "    <tr>\n",
       "      <th>French</th>\n",
       "      <td>44.1</td>\n",
       "      <td>17.6</td>\n",
       "      <td>70.6</td>\n",
       "    </tr>\n",
       "  </tbody>\n",
       "</table>\n",
       "</div>"
      ],
      "text/plain": [
       "          All Data  Control Group  Treatment Group\n",
       "Language                                          \n",
       "Spanish       52.9           41.2             64.7\n",
       "English       65.6           68.8             62.5\n",
       "French        44.1           17.6             70.6"
      ]
     },
     "execution_count": 25,
     "metadata": {},
     "output_type": "execute_result"
    }
   ],
   "source": [
    "'''\n",
    "Creating a table with conversion rate in percent (yes/(no+yes))*100) for all groups combined, the control group and \n",
    "the treatment group split up by preferred languages.\n",
    "'''\n",
    "# calculating the conversion rates\n",
    "SB=round(df[df['language_preferred']==\"Spanish\"]['converted'].value_counts(1).sort_index()[1]*100,1)\n",
    "EB=round(df[df['language_preferred']==\"English\"]['converted'].value_counts(1).sort_index()[1]*100,1)\n",
    "FB=round(df[df['language_preferred']==\"French\"]['converted'].value_counts(1).sort_index()[1]*100,1)\n",
    "SC=round(df[(df[\"group\"]==\"control\") & (df['language_preferred']==\"Spanish\")]['converted'].value_counts(1).sort_index()[1]*100,1)\n",
    "EC=round(df[(df[\"group\"]==\"control\") & (df['language_preferred']==\"English\")]['converted'].value_counts(1).sort_index()[1]*100,1)\n",
    "FC=round(df[(df[\"group\"]==\"control\") & (df['language_preferred']==\"French\")]['converted'].value_counts(1).sort_index()[1]*100,1)\n",
    "ST=round(df[(df[\"group\"]==\"treatment\") & (df['language_preferred']==\"Spanish\")]['converted'].value_counts(1).sort_index()[1]*100,1)\n",
    "ET=round(df[(df[\"group\"]==\"treatment\") & (df['language_preferred']==\"English\")]['converted'].value_counts(1).sort_index()[1]*100,1)\n",
    "FT=round(df[(df[\"group\"]==\"treatment\") & (df['language_preferred']==\"French\")]['converted'].value_counts(1).sort_index()[1]*100,1)\n",
    "\n",
    "# putting it in a data frame\n",
    "d = [ [\"Spanish\", SB,SC, ST],[\"English\", EB,EC, ET],[\"French\", FB, FC, FT]]\n",
    "df_lang = pd.DataFrame(d, columns = ['Language','All Data', 'Control Group','Treatment Group'])\n",
    "print('\\nConversion rate in percent for each language for all data and split into the control and treatment group')\n",
    "df_lang.set_index('Language')"
   ]
  },
  {
   "cell_type": "code",
   "execution_count": 26,
   "id": "7f7f3ecc",
   "metadata": {},
   "outputs": [
    {
     "data": {
      "image/png": "[encoded data removed]",
      "text/plain": [
       "<Figure size 1080x360 with 3 Axes>"
      ]
     },
     "metadata": {
      "needs_background": "light"
     },
     "output_type": "display_data"
    }
   ],
   "source": [
    "# plotting language vs. conversion rate\n",
    "fig = plt.gcf()\n",
    "fig.set_size_inches(15,5)\n",
    "\n",
    "#left plot\n",
    "plt.subplot(1,3,1); \n",
    "sns.barplot(x='Language',y='All Data',data=df_lang, palette=\"Paired\").set(title='Conversion Rate - All Data');\n",
    "\n",
    "#middle plot\n",
    "plt.subplot(1,3,2); \n",
    "sns.barplot(x='Language',y='Control Group',data=df_lang, palette=\"Paired\").set(title='Conversion Rate - Control Group');\n",
    "\n",
    "#right plot\n",
    "plt.subplot(1,3,3); \n",
    "sns.barplot(x='Language',y='Treatment Group',data=df_lang, palette=\"Paired\").set(title='Conversion Rate - Treatment Group');"
   ]
  },
  {
   "cell_type": "markdown",
   "id": "ea9ca3fd",
   "metadata": {},
   "source": [
    "### Observations\n",
    "\n",
    "- The conversion rate in the **control group** is clearly different for the different languages. It was the highest for English (68.8%), followed by Spanish (41.2%) and the lowest was French (17.6%)\n",
    "- In the **treatment group** the conversion rates for the different languages are closer together: French (70.6%, Spanish 64.7% and English 62.5%)\n",
    "- The conversion rate of people who chose **Spanish** was 41.2% in the control group vs. 64.7%  in the treatment group meaning it is a higher on the new page. \n",
    "- The conversion rate of people who chose **French** was 17.6% in the control group vs. 70.6%  in the treatment group meaning it is a lot higher on the new page. \n",
    "- The percentage of people who chose **English** was 68.8% in the control group vs. 62.5%  in the treatment group which is a bit lower on the new page.\n",
    "\n",
    "### 1.4.4 Time spent on Page vs. Group"
   ]
  },
  {
   "cell_type": "code",
   "execution_count": 27,
   "id": "dc04cff1",
   "metadata": {},
   "outputs": [
    {
     "data": {
      "text/plain": [
       "group\n",
       "control      4.5\n",
       "treatment    6.2\n",
       "Name: time_spent_on_the_page, dtype: float64"
      ]
     },
     "execution_count": 27,
     "metadata": {},
     "output_type": "execute_result"
    }
   ],
   "source": [
    "# Mean time spent by group\n",
    "round(df.groupby('group')['time_spent_on_the_page'].mean(),1)"
   ]
  },
  {
   "cell_type": "code",
   "execution_count": 28,
   "id": "1caa2a07",
   "metadata": {},
   "outputs": [
    {
     "data": {
      "image/png": "[encoded data removed]",
      "text/plain": [
       "<Figure size 1080x360 with 2 Axes>"
      ]
     },
     "metadata": {
      "needs_background": "light"
     },
     "output_type": "display_data"
    }
   ],
   "source": [
    "#plotting 2 plots together, setting size of combined plot\n",
    "fig = plt.gcf()\n",
    "fig.set_size_inches(15,5)\n",
    "\n",
    "# left - Time spent on page vs. control/treatment group \n",
    "plt.subplot(1,2,1); \n",
    "sns.boxplot(x = 'group', y = \"time_spent_on_the_page\", data = df, palette=\"Paired\");\n",
    "\n",
    "# right - Time spent on page vs. control/treatment group \n",
    "plt.subplot(1,2,2); \n",
    "plt.axvline(df[df[\"group\"]==\"control\"]['time_spent_on_the_page'].mean(), color='#A6CEE3', linewidth=2,label=\"Mean control\");\n",
    "plt.axvline(df[df[\"group\"]==\"control\"]['time_spent_on_the_page'].median(), color='#A6CEE3',linestyle='dashed', linewidth=2,label=\"Median Weekend\");\n",
    "plt.axvline(df[df[\"group\"]==\"treatment\"]['time_spent_on_the_page'].mean(), color='#5975A4', linewidth=2,label=\"Mean treatment\");\n",
    "plt.axvline(df[df[\"group\"]==\"treatment\"]['time_spent_on_the_page'].median(), color='#5975A4',linestyle='dashed', linewidth=2,label=\"Median Weekday\");\n",
    "sns.histplot(data=df, x=\"time_spent_on_the_page\", kde=True, hue=\"group\", palette=\"Paired\");"
   ]
  },
  {
   "cell_type": "markdown",
   "id": "58bfe6e8",
   "metadata": {},
   "source": [
    "### Observations\n",
    "\n",
    "People in the treatment group spent more time on average on the page (6.2 minutes) than people in the control group (4.5 minutes).\n",
    "\n",
    "### 1.4.5 Time spent on Page vs. Converted vs. Group"
   ]
  },
  {
   "cell_type": "code",
   "execution_count": 29,
   "id": "0bea0dbf",
   "metadata": {},
   "outputs": [
    {
     "data": {
      "text/plain": [
       "converted\n",
       "no     3.9\n",
       "yes    6.6\n",
       "Name: time_spent_on_the_page, dtype: float64"
      ]
     },
     "execution_count": 29,
     "metadata": {},
     "output_type": "execute_result"
    }
   ],
   "source": [
    "# Mean time spent for converted or not converted over both groups\n",
    "round(df.groupby(['converted'])['time_spent_on_the_page'].mean(),1)"
   ]
  },
  {
   "cell_type": "code",
   "execution_count": 30,
   "id": "852da194",
   "metadata": {},
   "outputs": [
    {
     "data": {
      "text/plain": [
       "converted  group    \n",
       "no         control      3.3\n",
       "           treatment    4.9\n",
       "yes        control      6.2\n",
       "           treatment    6.9\n",
       "Name: time_spent_on_the_page, dtype: float64"
      ]
     },
     "execution_count": 30,
     "metadata": {},
     "output_type": "execute_result"
    }
   ],
   "source": [
    "# Mean time spent for converted or not converted split by group\n",
    "round(df.groupby(['converted','group'])['time_spent_on_the_page'].mean(),1)"
   ]
  },
  {
   "cell_type": "code",
   "execution_count": 31,
   "id": "497e8207",
   "metadata": {},
   "outputs": [
    {
     "data": {
      "image/png": "[encoded data removed]",
      "text/plain": [
       "<Figure size 1080x360 with 2 Axes>"
      ]
     },
     "metadata": {
      "needs_background": "light"
     },
     "output_type": "display_data"
    }
   ],
   "source": [
    "#plotting 2 plots together, setting size of combined plot\n",
    "fig = plt.gcf()\n",
    "fig.set_size_inches(15,5)\n",
    "\n",
    "# left - Time spent on page vs. converted seperated by control/treatment group \n",
    "plt.subplot(1,2,1); \n",
    "sns.boxplot(x = 'converted', y = \"time_spent_on_the_page\", data = df, palette=\"Paired\");\n",
    "# right - Time spent on page vs. converted seperated by control/treatment group \n",
    "plt.subplot(1,2,2); \n",
    "sns.boxplot(x = 'converted', y = \"time_spent_on_the_page\",hue='group', data = df, palette=\"Paired\");"
   ]
  },
  {
   "cell_type": "markdown",
   "id": "425cd105",
   "metadata": {},
   "source": [
    "### Observations\n",
    "\n",
    "- People who were converted spent more time on the page (6.6 minutes) than people who left without taking action on the page (3.9 minutes). \n",
    "- People in the treatment group who weren't converted spent more time on the page (4.8 minutes) than people in the control group (3.3 minutes). The same but not as obvious is true for people who were converted (6.9 vs 6.1 minutes).\n",
    "\n",
    "### 1.4.5 Time spent on Page vs. Language vs. Group"
   ]
  },
  {
   "cell_type": "code",
   "execution_count": 32,
   "id": "a66da19e",
   "metadata": {},
   "outputs": [
    {
     "data": {
      "text/plain": [
       "language_preferred\n",
       "English    5.6\n",
       "French     5.3\n",
       "Spanish    5.3\n",
       "Name: time_spent_on_the_page, dtype: float64"
      ]
     },
     "execution_count": 32,
     "metadata": {},
     "output_type": "execute_result"
    }
   ],
   "source": [
    "# Mean time spent for preferred language over both groups\n",
    "round(df.groupby('language_preferred')['time_spent_on_the_page'].mean(),1)"
   ]
  },
  {
   "cell_type": "code",
   "execution_count": 33,
   "id": "316a61eb",
   "metadata": {},
   "outputs": [
    {
     "data": {
      "text/plain": [
       "language_preferred  group    \n",
       "English             control      4.5\n",
       "                    treatment    6.7\n",
       "French              control      4.3\n",
       "                    treatment    6.2\n",
       "Spanish             control      4.8\n",
       "                    treatment    5.8\n",
       "Name: time_spent_on_the_page, dtype: float64"
      ]
     },
     "execution_count": 33,
     "metadata": {},
     "output_type": "execute_result"
    }
   ],
   "source": [
    "# Mean time spent for preferred language split by group\n",
    "round(df.groupby(['language_preferred','group'])['time_spent_on_the_page'].mean(),1)"
   ]
  },
  {
   "cell_type": "code",
   "execution_count": 34,
   "id": "d265d61b",
   "metadata": {},
   "outputs": [
    {
     "data": {
      "image/png": "[encoded data removed]",
      "text/plain": [
       "<Figure size 1080x360 with 2 Axes>"
      ]
     },
     "metadata": {
      "needs_background": "light"
     },
     "output_type": "display_data"
    }
   ],
   "source": [
    "#plotting 2 plots together, setting size of combined plot\n",
    "fig = plt.gcf()\n",
    "fig.set_size_inches(15,5)\n",
    "\n",
    "# 1. Time spent on page vs. language seperated by control/treatment group \n",
    "plt.subplot(1,2,1); \n",
    "sns.boxplot(x = 'language_preferred', y = \"time_spent_on_the_page\", data = df, palette=\"Paired\");\n",
    "\n",
    "# 2. Time spent on page vs. Language\n",
    "plt.subplot(1,2,2); \n",
    "sns.boxplot(x = 'language_preferred', y = \"time_spent_on_the_page\",hue='group', data = df, palette=\"Paired\");"
   ]
  },
  {
   "cell_type": "markdown",
   "id": "27906576",
   "metadata": {
    "id": "27906576"
   },
   "source": [
    "### Observations\n",
    "- Overall the language doesn't seem to come into play very much for the time spent on the page. \n",
    "- In the control group the average time spent on the Spanish page was the highest with 4.8 minutes vs. 4.5 in English and 4.3 in French\n",
    "- In the treatment group the average time spent was up for all 3 languages, the highest being English with 6.7 minutes, followed by French with 6.3 and Spanish with 5.8.\n",
    "\n",
    "\n",
    "## 2. Do the users spend more time on the new landing page than the existing landing page? (10 Marks)"
   ]
  },
  {
   "cell_type": "markdown",
   "id": "e5fdf0c8",
   "metadata": {
    "id": "e5fdf0c8"
   },
   "source": [
    "### 2.1 Perform Visual Analysis"
   ]
  },
  {
   "cell_type": "code",
   "execution_count": 35,
   "id": "6eZJa41eg21n",
   "metadata": {
    "id": "6eZJa41eg21n"
   },
   "outputs": [
    {
     "name": "stdout",
     "output_type": "stream",
     "text": [
      "Dashed vertical line = Mean / not dashed = Median\n"
     ]
    },
    {
     "data": {
      "image/png": "[encoded data removed]",
      "text/plain": [
       "<Figure size 1080x360 with 2 Axes>"
      ]
     },
     "metadata": {
      "needs_background": "light"
     },
     "output_type": "display_data"
    }
   ],
   "source": [
    "print('Dashed vertical line = Mean / not dashed = Median') #explain lines in plots. Couldn't get it to add second legend\n",
    "#plotting 2 plots together, setting size of combined plot\n",
    "fig = plt.gcf()\n",
    "fig.set_size_inches(15,5)\n",
    "\n",
    "\n",
    "# left - Time spent on page vs. control/treatment group \n",
    "plt.subplot(1,2,1); \n",
    "sns.boxplot(x = 'group', y = \"time_spent_on_the_page\", data = df, palette=\"Paired\");\n",
    "\n",
    "# right - Time spent on page vs. control/treatment group \n",
    "plt.subplot(1,2,2); \n",
    "plt.axvline(df[df[\"group\"]==\"control\"]['time_spent_on_the_page'].mean(), color='#A6CEE3', linewidth=2,label=\"Mean control\");\n",
    "plt.axvline(df[df[\"group\"]==\"control\"]['time_spent_on_the_page'].median(), color='#A6CEE3',linestyle='dashed', linewidth=2,label=\"Median Weekend\");\n",
    "plt.axvline(df[df[\"group\"]==\"treatment\"]['time_spent_on_the_page'].mean(), color='#5975A4', linewidth=2,label=\"Mean treatment\");\n",
    "plt.axvline(df[df[\"group\"]==\"treatment\"]['time_spent_on_the_page'].median(), color='#5975A4',linestyle='dashed', linewidth=2,label=\"Median Weekday\");\n",
    "sns.histplot(data=df, x=\"time_spent_on_the_page\", kde=True, hue=\"group\", palette=\"Paired\");\n"
   ]
  },
  {
   "cell_type": "markdown",
   "id": "56b3dafd",
   "metadata": {
    "id": "56b3dafd"
   },
   "source": [
    "### 2.2 Define the null and alternate hypotheses"
   ]
  },
  {
   "cell_type": "markdown",
   "id": "d2ac77ef",
   "metadata": {
    "id": "d2ac77ef"
   },
   "source": [
    "Let $\\mu_C, \\mu_T$ be the mean time spent on the old page (Control Group) and the new page (Treatment Group) respectively. \n",
    "We will test the null hypothesis\n",
    "\n",
    ">$H_0:\\mu_C=\\mu_T$\n",
    "\n",
    "against the alternate hypothesis\n",
    "\n",
    ">$H_a:\\mu_C<\\mu_T$"
   ]
  },
  {
   "cell_type": "markdown",
   "id": "c7ee4907",
   "metadata": {
    "id": "c7ee4907"
   },
   "source": [
    "### 2.3 Select Appropriate test"
   ]
  },
  {
   "cell_type": "markdown",
   "id": "8d927eb1",
   "metadata": {},
   "source": [
    "This looks like a two independent z- or t-test. Let's take a look at the standard deviation and the distribiution first."
   ]
  },
  {
   "cell_type": "code",
   "execution_count": 36,
   "id": "f519ad1b",
   "metadata": {},
   "outputs": [
    {
     "name": "stdout",
     "output_type": "stream",
     "text": [
      "The mean time spent on the old page is 4.53\n",
      "The mean time spent on the new page is 6.22\n",
      "The standard deviation of time spent on the old page is 2.58\n",
      "The standard deviation of time spent on the new page is 1.82\n"
     ]
    }
   ],
   "source": [
    "print('The mean time spent on the old page is ' + str(round(df[df[\"group\"]==\"control\"]['time_spent_on_the_page'].mean(),2)))\n",
    "print('The mean time spent on the new page is ' + str(round(df[df[\"group\"]==\"treatment\"]['time_spent_on_the_page'].mean(),2)))\n",
    "print('The standard deviation of time spent on the old page is ' + str(round(df[df[\"group\"]==\"control\"]['time_spent_on_the_page'].std(),2)))\n",
    "print('The standard deviation of time spent on the new page is ' + str(round(df[df[\"group\"]==\"treatment\"]['time_spent_on_the_page'].std(),2)))"
   ]
  },
  {
   "cell_type": "markdown",
   "id": "71aa2230",
   "metadata": {},
   "source": [
    "#### Does Time spent on the Page follow a normal distribution? - Shapiro-Wilk’s test\n",
    "\n",
    " We will test the same null hypothesis for the control group and the treatment group\n",
    "\n",
    ">$H_0:$ Time spent on the page follows a normal distribution\n",
    "\n",
    "against the alternative hypothesis\n",
    "\n",
    ">$H_a:$ Time spent on the page does not follow a normal distribution"
   ]
  },
  {
   "cell_type": "code",
   "execution_count": 37,
   "id": "ba055dfb",
   "metadata": {},
   "outputs": [
    {
     "name": "stdout",
     "output_type": "stream",
     "text": [
      "The p-value for the control group is 0.45611920952796936\n",
      "The p-value for the treatment group is 0.8040016293525696\n"
     ]
    }
   ],
   "source": [
    "# import the required function\n",
    "from scipy import stats\n",
    "\n",
    "# find the p-value\n",
    "w, p_value = stats.shapiro(df[df[\"group\"]==\"control\"]['time_spent_on_the_page']) \n",
    "print('The p-value for the control group is', p_value)\n",
    "w, p_value = stats.shapiro(df[df[\"group\"]==\"treatment\"]['time_spent_on_the_page']) \n",
    "print('The p-value for the treatment group is', p_value)"
   ]
  },
  {
   "cell_type": "markdown",
   "id": "c19a167c",
   "metadata": {},
   "source": [
    "#### Insight\n",
    "As the p-value for both groups is much higher than the usual significance level of 5%, we fail to reject the null hypothesis. Hence, we do have enough statistical evidence to conclude that the populations for both groups for time spent on the page follow a normal distribiution. "
   ]
  },
  {
   "cell_type": "markdown",
   "id": "c477de8c",
   "metadata": {
    "id": "2c183cd7"
   },
   "source": [
    "#### Are the population standard deviations in both groups equal for the time spent on the page? - Levene’s test\n",
    "We will test the null hypothesis\n",
    "\n",
    ">$H_0$: The population variances in both groups are equal\n",
    "\n",
    "against the alternative hypothesis\n",
    "\n",
    ">$H_a$: The population variances in both groups are different"
   ]
  },
  {
   "cell_type": "code",
   "execution_count": 38,
   "id": "08047fff",
   "metadata": {},
   "outputs": [
    {
     "name": "stdout",
     "output_type": "stream",
     "text": [
      "The p-value is 0.008950671168914445\n"
     ]
    }
   ],
   "source": [
    "#Assumption 2: Homogeneity of Variance\n",
    "#import the required function\n",
    "from scipy.stats import levene\n",
    "statistic, p_value = levene( df[df[\"group\"]==\"control\"]['time_spent_on_the_page'], \n",
    "                                   df[df[\"group\"]==\"treatment\"]['time_spent_on_the_page'])\n",
    "# find the p-value\n",
    "print('The p-value is', p_value)"
   ]
  },
  {
   "cell_type": "markdown",
   "id": "e055f08b",
   "metadata": {},
   "source": [
    "#### Insight\n",
    "As the p-value is much less than the usual significance level of 5%, we can reject the null hypothesis. Hence, we do have enough statistical evidence to conclude that the population variances are not equal at a 5% significance level. Since the standard deviation is the square root of the variance, the same can be concluded for the standard deviation.\n",
    "This calls for a Two Independednt Sample T-Test.\n",
    "\n",
    "#### Let's test whether the T-Test assumptions are satisfied or not\n",
    "\n",
    "* Continuous data - Yes, the time spent on the page is measured on a continuous scale.\n",
    "* Normally distributed populations - Yes, we confirmed that with a Shapiro-Wilk’s test.\n",
    "* Independent populations - As we are taking random samples for two different groups, the two samples are from two independent populations.\n",
    "* Unequal population standard deviations - As the sample standard deviations are different, the population standard deviations may be assumed to be different and we confirmed it with a Levene’s test.\n",
    "* Random sampling from the population - Yes, we are informed that the collected sample is simple random sample.\n",
    "\n",
    "#### Conclusion\n",
    "\n",
    "The appropriate test for the problem is a Two Independednt Sample T-Test with unequal population standard deviations"
   ]
  },
  {
   "cell_type": "markdown",
   "id": "3f58c9a7",
   "metadata": {
    "id": "3f58c9a7"
   },
   "source": [
    "### 2.4 Decide the significance level"
   ]
  },
  {
   "cell_type": "markdown",
   "id": "92d7d7ee",
   "metadata": {
    "id": "92d7d7ee"
   },
   "source": [
    "The guidelines call for a significance level of 0.05 for all tests."
   ]
  },
  {
   "cell_type": "markdown",
   "id": "5fed2eac",
   "metadata": {
    "id": "5fed2eac"
   },
   "source": [
    "### 2.5 Collect and prepare data"
   ]
  },
  {
   "cell_type": "code",
   "execution_count": 39,
   "id": "f5a59495",
   "metadata": {
    "id": "f5a59495"
   },
   "outputs": [],
   "source": [
    "time_control=df[df[\"group\"]==\"control\"]['time_spent_on_the_page'] #list of time spent on page values in control group\n",
    "time_treatment=df[df[\"group\"]==\"treatment\"]['time_spent_on_the_page'] #list of time spent on page values in treatment group"
   ]
  },
  {
   "cell_type": "markdown",
   "id": "f5c5258d",
   "metadata": {
    "id": "f5c5258d"
   },
   "source": [
    "### 2.6 Calculate the p-value"
   ]
  },
  {
   "cell_type": "code",
   "execution_count": 40,
   "id": "fac8594a",
   "metadata": {
    "id": "fac8594a"
   },
   "outputs": [
    {
     "name": "stdout",
     "output_type": "stream",
     "text": [
      "The p-value is 0.0001392381225166549\n"
     ]
    }
   ],
   "source": [
    "#run the test and find the p-value\n",
    "from scipy.stats import ttest_ind #import test function\n",
    "'''\n",
    "time_control: Time spent on the page in the control group \n",
    "time_treatment: Time spent on the page in the treatment group \n",
    "equal_var = False: variances are not equal\n",
    "alternative = 'less': alternet hypothesis is one tailed 'less than'\n",
    "'''\n",
    "\n",
    "test_stat, p_value = ttest_ind(time_control, time_treatment, equal_var = False, alternative = 'less')\n",
    "print('The p-value is', p_value)"
   ]
  },
  {
   "cell_type": "markdown",
   "id": "359b12f8",
   "metadata": {
    "id": "359b12f8"
   },
   "source": [
    "### 2.7 Compare the p-value with $\\alpha$"
   ]
  },
  {
   "cell_type": "markdown",
   "id": "2b82f0a4",
   "metadata": {
    "id": "7be47289"
   },
   "source": [
    "The p-value is much smaller than the level of significance."
   ]
  },
  {
   "cell_type": "markdown",
   "id": "d9affc84",
   "metadata": {
    "id": "d9affc84"
   },
   "source": [
    "### 2.8  Draw inference"
   ]
  },
  {
   "cell_type": "markdown",
   "id": "6b16dd4b",
   "metadata": {
    "id": "6b16dd4b"
   },
   "source": [
    "The null hypothesis can be rejected. Thus there is enough statistical evidence to conclude that the treatment group spends more time on the page than the control group."
   ]
  },
  {
   "cell_type": "markdown",
   "id": "353e9d24",
   "metadata": {
    "id": "353e9d24"
   },
   "source": [
    "## 3. Is the conversion rate (the proportion of users who visit the landing page and get converted) for the new page greater than the conversion rate for the old page? (10 Marks)"
   ]
  },
  {
   "cell_type": "markdown",
   "id": "edd8bb23",
   "metadata": {},
   "source": [
    "### 3.1 Perform Visual Analysis"
   ]
  },
  {
   "cell_type": "code",
   "execution_count": 41,
   "id": "b7112250",
   "metadata": {},
   "outputs": [
    {
     "data": {
      "image/png": "[encoded data removed]",
      "text/plain": [
       "<Figure size 432x288 with 1 Axes>"
      ]
     },
     "metadata": {
      "needs_background": "light"
     },
     "output_type": "display_data"
    }
   ],
   "source": [
    "# for data creation s. bivariant analysis\n",
    "sns.barplot(x='Group',y='Conversion Rate',data=df_group, palette=\"Paired\").set(title='Conversion Rate in Percent');"
   ]
  },
  {
   "cell_type": "markdown",
   "id": "4d7716a0",
   "metadata": {},
   "source": [
    "#### Observations:\n",
    "As mentioned in the bivariant analysis: In the treatment group aka the new page 66% of visitors were converted compared to 42% in the control group."
   ]
  },
  {
   "cell_type": "markdown",
   "id": "28dbfc18",
   "metadata": {
    "id": "b7f52898"
   },
   "source": [
    "### 3.2 Define the null and alternate hypotheses\n",
    "Let $p_C, p_T$ be the conversion rate in the Control Group and the Treatment Group respectively. \n",
    "\n",
    "We will test the null hypothesis\n",
    "\n",
    ">$H_0:p_C=p_T$\n",
    "\n",
    "against the alternate hypothesis\n",
    "\n",
    ">$H_a:p_C< p_T$"
   ]
  },
  {
   "cell_type": "markdown",
   "id": "a4e58b66",
   "metadata": {},
   "source": [
    "### 3.3 Select Appropriate test"
   ]
  },
  {
   "cell_type": "markdown",
   "id": "5a6de685",
   "metadata": {},
   "source": [
    "This looks like a Two Proportions Z-Test. We are dealing with binominal distributions (converted=yes/no) testing proportions. Let's see if they can be approximated by a normal distribiution?"
   ]
  },
  {
   "cell_type": "code",
   "execution_count": 42,
   "id": "c08e9cbd",
   "metadata": {},
   "outputs": [],
   "source": [
    "#Self defined function to test if binominal data can be used like a normal distribiution\n",
    "def test_normal_in_bino(data):\n",
    "    '''\n",
    "    data = list of unknown legnth with only two 2 values in it\n",
    "    '''\n",
    "    p=data.value_counts(1)[0] #probability of first value\n",
    "    n=data.count() #length of data\n",
    "    \n",
    "    #p*n and n*(1-p) both must be >10 in order for it to be usable as a normal distribution\n",
    "    res1=p*n\n",
    "    res2=n*(1-p)\n",
    "    if res1<10 or res2<10:\n",
    "        print('This can''t be treated like normal distribiution')\n",
    "    else: print('Since',round(res1,2),'and',round(res2,2), 'are >10, this can be treated like normal distribiution')"
   ]
  },
  {
   "cell_type": "code",
   "execution_count": 43,
   "id": "ef7c405a",
   "metadata": {},
   "outputs": [
    {
     "name": "stdout",
     "output_type": "stream",
     "text": [
      "Since 29.0 and 21.0 are >10, this can be treated like normal distribiution\n"
     ]
    }
   ],
   "source": [
    "test_normal_in_bino(df[df[\"group\"]==\"control\"]['converted']) #Test converted in the control group"
   ]
  },
  {
   "cell_type": "code",
   "execution_count": 44,
   "id": "b63ab7c0",
   "metadata": {},
   "outputs": [
    {
     "name": "stdout",
     "output_type": "stream",
     "text": [
      "Since 33.0 and 17.0 are >10, this can be treated like normal distribiution\n"
     ]
    }
   ],
   "source": [
    "test_normal_in_bino(df[df[\"group\"]==\"treatment\"]['converted']) #Test converted in the treatment group"
   ]
  },
  {
   "cell_type": "markdown",
   "id": "951c6c4b",
   "metadata": {},
   "source": [
    "#### Let's test whether the Z-Test assumptions are satisfied or not\n",
    "\n",
    "*   Binomally distributed population - Yes, a person is eitehr converted or not\n",
    "*   Random sampling from the population - Yes, we are informed that the collected sample is a simple random sample.  \n",
    "*   Can the binomial distributions be approximated as normal distributions - Yes, we tested for this above\n",
    "\n",
    "#### Conclusion\n",
    "\n",
    "The appropriate test for the problem is a Two Proportions Z-Test."
   ]
  },
  {
   "cell_type": "markdown",
   "id": "616bc547",
   "metadata": {},
   "source": [
    "### 3.4 Decide the significance level\n",
    "\n",
    "The guidelines call for a significance level of 0.05 for all tests."
   ]
  },
  {
   "cell_type": "markdown",
   "id": "255135d6",
   "metadata": {},
   "source": [
    "### 3.5 Collect and prepare data"
   ]
  },
  {
   "cell_type": "code",
   "execution_count": 45,
   "id": "129e14c7",
   "metadata": {},
   "outputs": [],
   "source": [
    "count_control=df[(df[\"group\"]==\"control\")&(df['converted']=='yes')]['converted'].count() # amount of conv=yes in control group\n",
    "n_control=df[df[\"group\"]==\"control\"]['converted'].count() # amount all in control group\n",
    "count_treatment=df[(df[\"group\"]==\"treatment\")&(df['converted']=='yes')]['converted'].count()  # amount of conv=yes in treatment group\n",
    "n_treatment=df[df[\"group\"]==\"control\"]['converted'].count()  # amount all in treatment group\n",
    "\n",
    "convert_count = np.array([count_control, count_treatment]) #array with conv=yes - both groups\n",
    "nobs = np.array([n_control, n_treatment]) #array with all  - both groups"
   ]
  },
  {
   "cell_type": "markdown",
   "id": "39bd5a6a",
   "metadata": {},
   "source": [
    "### 3.6 Calculate the p-value"
   ]
  },
  {
   "cell_type": "code",
   "execution_count": 46,
   "id": "988273a0",
   "metadata": {},
   "outputs": [
    {
     "name": "stdout",
     "output_type": "stream",
     "text": [
      "The p-value is 0.008026308204056278\n"
     ]
    }
   ],
   "source": [
    "from statsmodels.stats.proportion import proportions_ztest\n",
    "\n",
    "# find the p-value\n",
    "test_stat, p_value = proportions_ztest(convert_count, nobs,alternative='smaller')\n",
    "print('The p-value is ' + str(p_value))"
   ]
  },
  {
   "cell_type": "markdown",
   "id": "c4987403",
   "metadata": {},
   "source": [
    "### 3.7 Compare the p-value with $\\alpha$\n",
    "The p-value is much smaller than the level of significance."
   ]
  },
  {
   "cell_type": "markdown",
   "id": "eba9b707",
   "metadata": {},
   "source": [
    "### 3.8  Draw inference\n",
    "\n",
    "The null hypothesis can be rejected. Thus there is enough statistical evidence to conclude that in the treatment group more people are converted than in the control group.\n"
   ]
  },
  {
   "cell_type": "markdown",
   "id": "d49bfa2d",
   "metadata": {
    "id": "d49bfa2d"
   },
   "source": [
    "## 4. Are the conversion and preferred language independent or related? (10 Marks)"
   ]
  },
  {
   "cell_type": "markdown",
   "id": "fbd2029f",
   "metadata": {},
   "source": [
    "### 4.1 Perform Visual Analysis"
   ]
  },
  {
   "cell_type": "code",
   "execution_count": 47,
   "id": "3e565734",
   "metadata": {},
   "outputs": [
    {
     "data": {
      "image/png": "[encoded data removed]",
      "text/plain": [
       "<Figure size 1080x360 with 3 Axes>"
      ]
     },
     "metadata": {
      "needs_background": "light"
     },
     "output_type": "display_data"
    }
   ],
   "source": [
    "#data creation s. bivariant analysis\n",
    "fig = plt.gcf()\n",
    "fig.set_size_inches(15,5)\n",
    "\n",
    "plt.subplot(1,3,1); \n",
    "sns.barplot(x='Language',y='All Data',data=df_lang, palette=\"Paired\").set(title='Conversion Rate - All Data');\n",
    "\n",
    "plt.subplot(1,3,2); \n",
    "sns.barplot(x='Language',y='Control Group',data=df_lang, palette=\"Paired\").set(title='Conversion Rate - Control Group');\n",
    "\n",
    "plt.subplot(1,3,3); \n",
    "sns.barplot(x='Language',y='Treatment Group',data=df_lang, palette=\"Paired\").set(title='Conversion Rate - Treatment Group');"
   ]
  },
  {
   "cell_type": "code",
   "execution_count": 48,
   "id": "b0e63f17",
   "metadata": {
    "id": "b0e63f17"
   },
   "outputs": [
    {
     "data": {
      "text/html": [
       "<div>\n",
       "<style scoped>\n",
       "    .dataframe tbody tr th:only-of-type {\n",
       "        vertical-align: middle;\n",
       "    }\n",
       "\n",
       "    .dataframe tbody tr th {\n",
       "        vertical-align: top;\n",
       "    }\n",
       "\n",
       "    .dataframe thead th {\n",
       "        text-align: right;\n",
       "    }\n",
       "</style>\n",
       "<table border=\"1\" class=\"dataframe\">\n",
       "  <thead>\n",
       "    <tr style=\"text-align: right;\">\n",
       "      <th>converted</th>\n",
       "      <th>no</th>\n",
       "      <th>yes</th>\n",
       "    </tr>\n",
       "    <tr>\n",
       "      <th>language_preferred</th>\n",
       "      <th></th>\n",
       "      <th></th>\n",
       "    </tr>\n",
       "  </thead>\n",
       "  <tbody>\n",
       "    <tr>\n",
       "      <th>English</th>\n",
       "      <td>11</td>\n",
       "      <td>21</td>\n",
       "    </tr>\n",
       "    <tr>\n",
       "      <th>French</th>\n",
       "      <td>19</td>\n",
       "      <td>15</td>\n",
       "    </tr>\n",
       "    <tr>\n",
       "      <th>Spanish</th>\n",
       "      <td>16</td>\n",
       "      <td>18</td>\n",
       "    </tr>\n",
       "  </tbody>\n",
       "</table>\n",
       "</div>"
      ],
      "text/plain": [
       "converted           no  yes\n",
       "language_preferred         \n",
       "English             11   21\n",
       "French              19   15\n",
       "Spanish             16   18"
      ]
     },
     "execution_count": 48,
     "metadata": {},
     "output_type": "execute_result"
    }
   ],
   "source": [
    "# Create a table with the counts for converted vs. language\n",
    "conv_lang=pd.crosstab( df[\"language_preferred\"],df[\"converted\"], dropna=False)\n",
    "conv_lang"
   ]
  },
  {
   "cell_type": "markdown",
   "id": "7bf97bdc",
   "metadata": {},
   "source": [
    "### 4.2 Define the null and alternate hypotheses\n",
    "Let $p_C, p_T$ be the percentage of people who converted from the old (Control Group) and the new page (Treatment Group) respectively. \n",
    "\n",
    "We will test the null hypothesis\n",
    "\n",
    ">$H_0$:Conversion and preferred language are independent\n",
    "\n",
    "against the alternate hypothesis\n",
    "\n",
    ">$H_a$:Conversion and preferred language are not independent"
   ]
  },
  {
   "cell_type": "markdown",
   "id": "0642fa1f",
   "metadata": {},
   "source": [
    "### 4.3 Select Appropriate test"
   ]
  },
  {
   "cell_type": "markdown",
   "id": "4ba8018e",
   "metadata": {},
   "source": [
    "The appropriate test for the problem is a Chi-Square Test for Independence with unequal population standard deviations\n",
    "\n",
    "#### Let's test whether the assumptions are satisfied or not\n",
    "\n",
    "* Categorical variables - Yes\n",
    "* Expected value of the number of sample observations in each level of the variable is at least 5 - Yes, the number of observations in each level is greater than 5.\n",
    "* Random sampling from the population - Yes, we are informed that the collected sample is a simple random sample.\n"
   ]
  },
  {
   "cell_type": "markdown",
   "id": "a37c1a7d",
   "metadata": {},
   "source": [
    "### 4.4: Decide the significance level\n",
    "\n",
    "The guidelines call for a significance level of 0.05 for all tests.\n",
    "\n",
    "### 4.5 Collect and prepare data"
   ]
  },
  {
   "cell_type": "code",
   "execution_count": 49,
   "id": "14263cb9",
   "metadata": {},
   "outputs": [
    {
     "data": {
      "text/html": [
       "<div>\n",
       "<style scoped>\n",
       "    .dataframe tbody tr th:only-of-type {\n",
       "        vertical-align: middle;\n",
       "    }\n",
       "\n",
       "    .dataframe tbody tr th {\n",
       "        vertical-align: top;\n",
       "    }\n",
       "\n",
       "    .dataframe thead th {\n",
       "        text-align: right;\n",
       "    }\n",
       "</style>\n",
       "<table border=\"1\" class=\"dataframe\">\n",
       "  <thead>\n",
       "    <tr style=\"text-align: right;\">\n",
       "      <th>converted</th>\n",
       "      <th>no</th>\n",
       "      <th>yes</th>\n",
       "    </tr>\n",
       "    <tr>\n",
       "      <th>language_preferred</th>\n",
       "      <th></th>\n",
       "      <th></th>\n",
       "    </tr>\n",
       "  </thead>\n",
       "  <tbody>\n",
       "    <tr>\n",
       "      <th>English</th>\n",
       "      <td>11</td>\n",
       "      <td>21</td>\n",
       "    </tr>\n",
       "    <tr>\n",
       "      <th>French</th>\n",
       "      <td>19</td>\n",
       "      <td>15</td>\n",
       "    </tr>\n",
       "    <tr>\n",
       "      <th>Spanish</th>\n",
       "      <td>16</td>\n",
       "      <td>18</td>\n",
       "    </tr>\n",
       "  </tbody>\n",
       "</table>\n",
       "</div>"
      ],
      "text/plain": [
       "converted           no  yes\n",
       "language_preferred         \n",
       "English             11   21\n",
       "French              19   15\n",
       "Spanish             16   18"
      ]
     },
     "execution_count": 49,
     "metadata": {},
     "output_type": "execute_result"
    }
   ],
   "source": [
    "# Create a table with the counts for converted vs. language\n",
    "conv_lang=pd.crosstab( df[\"language_preferred\"],df[\"converted\"], dropna=False)\n",
    "conv_lang"
   ]
  },
  {
   "cell_type": "markdown",
   "id": "5952a295",
   "metadata": {},
   "source": [
    "### 4.6 Calculate the p-value"
   ]
  },
  {
   "cell_type": "code",
   "execution_count": 50,
   "id": "93f85b40",
   "metadata": {},
   "outputs": [
    {
     "name": "stdout",
     "output_type": "stream",
     "text": [
      "The p-value is 0.2129888748754345\n"
     ]
    }
   ],
   "source": [
    "# import the required function\n",
    "from scipy.stats import chi2_contingency\n",
    "\n",
    "# find the p-value\n",
    "chi, p_value, dof, expected = chi2_contingency(conv_lang)\n",
    "print('The p-value is', p_value)"
   ]
  },
  {
   "cell_type": "markdown",
   "id": "740f2f5c",
   "metadata": {},
   "source": [
    "Let's also take a look at this data seperated by group with the same hypothesis and test."
   ]
  },
  {
   "cell_type": "code",
   "execution_count": 51,
   "id": "38b8bf62",
   "metadata": {},
   "outputs": [
    {
     "data": {
      "text/html": [
       "<div>\n",
       "<style scoped>\n",
       "    .dataframe tbody tr th:only-of-type {\n",
       "        vertical-align: middle;\n",
       "    }\n",
       "\n",
       "    .dataframe tbody tr th {\n",
       "        vertical-align: top;\n",
       "    }\n",
       "\n",
       "    .dataframe thead th {\n",
       "        text-align: right;\n",
       "    }\n",
       "</style>\n",
       "<table border=\"1\" class=\"dataframe\">\n",
       "  <thead>\n",
       "    <tr style=\"text-align: right;\">\n",
       "      <th>converted</th>\n",
       "      <th>no</th>\n",
       "      <th>yes</th>\n",
       "    </tr>\n",
       "    <tr>\n",
       "      <th>language_preferred</th>\n",
       "      <th></th>\n",
       "      <th></th>\n",
       "    </tr>\n",
       "  </thead>\n",
       "  <tbody>\n",
       "    <tr>\n",
       "      <th>English</th>\n",
       "      <td>5</td>\n",
       "      <td>11</td>\n",
       "    </tr>\n",
       "    <tr>\n",
       "      <th>French</th>\n",
       "      <td>14</td>\n",
       "      <td>3</td>\n",
       "    </tr>\n",
       "    <tr>\n",
       "      <th>Spanish</th>\n",
       "      <td>10</td>\n",
       "      <td>7</td>\n",
       "    </tr>\n",
       "  </tbody>\n",
       "</table>\n",
       "</div>"
      ],
      "text/plain": [
       "converted           no  yes\n",
       "language_preferred         \n",
       "English              5   11\n",
       "French              14    3\n",
       "Spanish             10    7"
      ]
     },
     "execution_count": 51,
     "metadata": {},
     "output_type": "execute_result"
    }
   ],
   "source": [
    "#data for the control group.\n",
    "conv_lang_c=pd.crosstab( df[df[\"group\"]==\"control\"][\"language_preferred\"],df[df[\"group\"]==\"control\"][\"converted\"], dropna=False)\n",
    "conv_lang_c"
   ]
  },
  {
   "cell_type": "markdown",
   "id": "df129e32",
   "metadata": {},
   "source": [
    "In this case we can't use the Chi-Square Test for Independence since the assumption 'Expected value of the number of sample observations in each level of the variable is at least 5' isn't met. So let's just loo at the treatment group."
   ]
  },
  {
   "cell_type": "code",
   "execution_count": 52,
   "id": "672ced4b",
   "metadata": {},
   "outputs": [
    {
     "data": {
      "text/html": [
       "<div>\n",
       "<style scoped>\n",
       "    .dataframe tbody tr th:only-of-type {\n",
       "        vertical-align: middle;\n",
       "    }\n",
       "\n",
       "    .dataframe tbody tr th {\n",
       "        vertical-align: top;\n",
       "    }\n",
       "\n",
       "    .dataframe thead th {\n",
       "        text-align: right;\n",
       "    }\n",
       "</style>\n",
       "<table border=\"1\" class=\"dataframe\">\n",
       "  <thead>\n",
       "    <tr style=\"text-align: right;\">\n",
       "      <th>converted</th>\n",
       "      <th>no</th>\n",
       "      <th>yes</th>\n",
       "    </tr>\n",
       "    <tr>\n",
       "      <th>language_preferred</th>\n",
       "      <th></th>\n",
       "      <th></th>\n",
       "    </tr>\n",
       "  </thead>\n",
       "  <tbody>\n",
       "    <tr>\n",
       "      <th>English</th>\n",
       "      <td>6</td>\n",
       "      <td>10</td>\n",
       "    </tr>\n",
       "    <tr>\n",
       "      <th>French</th>\n",
       "      <td>5</td>\n",
       "      <td>12</td>\n",
       "    </tr>\n",
       "    <tr>\n",
       "      <th>Spanish</th>\n",
       "      <td>6</td>\n",
       "      <td>11</td>\n",
       "    </tr>\n",
       "  </tbody>\n",
       "</table>\n",
       "</div>"
      ],
      "text/plain": [
       "converted           no  yes\n",
       "language_preferred         \n",
       "English              6   10\n",
       "French               5   12\n",
       "Spanish              6   11"
      ]
     },
     "execution_count": 52,
     "metadata": {},
     "output_type": "execute_result"
    }
   ],
   "source": [
    "#data for the treatment group\n",
    "conv_lang_t=pd.crosstab( df[df[\"group\"]==\"treatment\"][\"language_preferred\"],df[df[\"group\"]==\"treatment\"][\"converted\"], dropna=False)\n",
    "conv_lang_t\n"
   ]
  },
  {
   "cell_type": "code",
   "execution_count": 53,
   "id": "2a6a19f9",
   "metadata": {},
   "outputs": [
    {
     "name": "stdout",
     "output_type": "stream",
     "text": [
      "The p-value is 0.8783081441552572\n"
     ]
    }
   ],
   "source": [
    "# find the p-value\n",
    "chi, p_value, dof, expected = chi2_contingency(conv_lang_t)\n",
    "print('The p-value is', p_value)"
   ]
  },
  {
   "cell_type": "markdown",
   "id": "29f91cd6",
   "metadata": {},
   "source": [
    "### 4.7 Compare the p-value with $\\alpha$\n",
    "The p-value is higher than the level of significance for the whole data set as well as for the treatment group. "
   ]
  },
  {
   "cell_type": "markdown",
   "id": "43af1f9c",
   "metadata": {},
   "source": [
    "### Step 4.8 Draw inference\n",
    "\n",
    "We fail to reject the null hypothesis in both cases. Thus, there is enough statistical evidence to conclude that \n",
    "- the conversion rate over all is independent from the preferred language and\n",
    "- the conversion rate in the treatment group alone is independent from the preferred language as well.\n"
   ]
  },
  {
   "cell_type": "markdown",
   "id": "8d585a90",
   "metadata": {
    "id": "8d585a90"
   },
   "source": [
    "## 5. Is the time spent on the new page same for the different language users? (10 Marks)\n",
    "\n",
    "### 5.1 Perform Visual Analysis"
   ]
  },
  {
   "cell_type": "code",
   "execution_count": 54,
   "id": "dcf7e3a7",
   "metadata": {},
   "outputs": [
    {
     "data": {
      "image/png": "[encoded data removed]",
      "text/plain": [
       "<Figure size 432x288 with 1 Axes>"
      ]
     },
     "metadata": {
      "needs_background": "light"
     },
     "output_type": "display_data"
    }
   ],
   "source": [
    "df_treatment=df[df[\"group\"]==\"treatment\"].copy() #create a new df with the treatment group data only\n",
    "plt.axvline(df_treatment['time_spent_on_the_page'].mean(), color='r', linewidth=2,label=\"Mean control\"); #mean line\n",
    "sns.boxplot(y = 'language_preferred', x = \"time_spent_on_the_page\", data = df_treatment, palette=\"Paired\").set_title('Time spent on page by language');"
   ]
  },
  {
   "cell_type": "markdown",
   "id": "4d840af4",
   "metadata": {},
   "source": [
    "### 5.2 Define the null and alternate hypotheses\n",
    "Let $\\mu_E, \\mu_F, \\mu_S$ be the avarage time people spend on the page using their preferred language of English (E), French (F) or Spanish (S)\n",
    "\n",
    "We will test the null hypothesis\n",
    "\n",
    ">$H_0:\\mu_E=\\mu_F=\\mu_S$\n",
    "\n",
    "against the alternate hypothesis\n",
    "\n",
    ">$H_a:\\mu_E, \\mu_F , \\mu_S$ are not all the same\n",
    "\n",
    "### 5.3 Select Appropriate test\n",
    "\n",
    "This looks like an ANOVA test, let's look at the variances first."
   ]
  },
  {
   "cell_type": "code",
   "execution_count": 55,
   "id": "d8b9d016",
   "metadata": {},
   "outputs": [
    {
     "data": {
      "text/plain": [
       "language_preferred\n",
       "English    2.0\n",
       "French     1.9\n",
       "Spanish    1.5\n",
       "Name: time_spent_on_the_page, dtype: float64"
      ]
     },
     "execution_count": 55,
     "metadata": {},
     "output_type": "execute_result"
    }
   ],
   "source": [
    "round(df_treatment.groupby('language_preferred')['time_spent_on_the_page'].std(),1)"
   ]
  },
  {
   "cell_type": "markdown",
   "id": "ede9a6b1",
   "metadata": {},
   "source": [
    "#### Levene’s test\n",
    "\n",
    "We will test the null hypothesis\n",
    "\n",
    ">$H_0$: All the population variances are equal\n",
    "\n",
    "against the alternative hypothesis\n",
    "\n",
    ">$H_a$: At least one variance is different from the rest"
   ]
  },
  {
   "cell_type": "code",
   "execution_count": 56,
   "id": "d825bec3",
   "metadata": {},
   "outputs": [
    {
     "name": "stdout",
     "output_type": "stream",
     "text": [
      "The p-value is 0.46711357711340173\n"
     ]
    }
   ],
   "source": [
    "#import the required function\n",
    "from scipy.stats import levene\n",
    "statistic, p_value = levene(df_treatment[df_treatment[\"language_preferred\"]==\"Spanish\"]['time_spent_on_the_page'], \n",
    "                                   df_treatment[df_treatment[\"language_preferred\"]==\"English\"]['time_spent_on_the_page'], \n",
    "                                   df_treatment[df_treatment[\"language_preferred\"]==\"French\"]['time_spent_on_the_page'])\n",
    "# find the p-value\n",
    "print('The p-value is', p_value)"
   ]
  },
  {
   "cell_type": "markdown",
   "id": "34e67175",
   "metadata": {},
   "source": [
    "#### Insight\n",
    "As the p-value is much higer than the usual significance level of 5%, we fail to reject the null hypothesis. Hence, we do have enough statistical evidence to conclude that the population variances are indeed equal.\n",
    "\n",
    "#### Let's test whether the assumptions are satisfied or not\n",
    "\n",
    "* The populations are normally distributed - Yes, the normality assumption was verified through the Shapiro-Wilk’s test above in 2.3.\n",
    "* Samples are independent simple random samples - Yes, we are informed that the collected sample is a simple random sample.\n",
    "* Population variances are equal - Yes, the homogeneity of variance assumption was verified using the Levene's test above.\n",
    "\n",
    "\n",
    "#### Conclusion\n",
    "\n",
    "The appropriate test for the problem is a One-way ANOVA Test.\n",
    "\n",
    "### 5.4 Decide the significance level\n",
    "\n",
    "The guidelines call for a significance level of 0.05 for all tests.\n",
    "\n",
    "### 5.5 Collect and prepare data\n",
    "\n"
   ]
  },
  {
   "cell_type": "code",
   "execution_count": 57,
   "id": "12cb6205",
   "metadata": {},
   "outputs": [],
   "source": [
    "new_spanish_time=df_treatment[df_treatment[\"language_preferred\"]==\"Spanish\"]['time_spent_on_the_page']\n",
    "new_english_time=df_treatment[df_treatment[\"language_preferred\"]==\"English\"]['time_spent_on_the_page']\n",
    "new_french_time=df_treatment[df_treatment[\"language_preferred\"]==\"French\"]['time_spent_on_the_page']"
   ]
  },
  {
   "cell_type": "markdown",
   "id": "ee840513",
   "metadata": {},
   "source": [
    "### 5.6 Calculate the p-value"
   ]
  },
  {
   "cell_type": "code",
   "execution_count": 58,
   "id": "b2501d2c",
   "metadata": {},
   "outputs": [
    {
     "name": "stdout",
     "output_type": "stream",
     "text": [
      "The p-value is 0.43204138694325955\n"
     ]
    }
   ],
   "source": [
    "#import the required function\n",
    "from scipy.stats import f_oneway\n",
    "\n",
    "# perform one-way anova test\n",
    "test_stat, p_value = f_oneway(new_spanish_time,new_english_time,new_french_time)\n",
    "print('The p-value is ' + str(p_value))"
   ]
  },
  {
   "cell_type": "markdown",
   "id": "3acbc947",
   "metadata": {
    "id": "3acbc947"
   },
   "source": [
    "### 5.7 Compare the p-value with $\\alpha$\n",
    "The p-value is higher than the level of significance. \n",
    "\n",
    "### Step 7:  Draw inference\n",
    "\n",
    "We fail to reject the null hypothesis. Thus, there is enough statistical evidence to conclude that the language has no influence on the time spent on the new page.\n",
    "\n",
    "## Conclusion and Business Recommendations*"
   ]
  },
  {
   "cell_type": "markdown",
   "id": "21fb1063",
   "metadata": {
    "id": "21fb1063"
   },
   "source": [
    "Kudos to the design team! The new page definitely has a better overall conversion rate than the old one. And even if no action is taken, visitors to the page are lingering longer, which indicates more interest and might make it more likely for them to come back (but this is another analysis for another time).\n",
    "\n",
    "The conversion rate for the English page which was fairly high to begin whith hasn't really changed, but the Spanish and French pages have clearly improved conversion rates.\n",
    "\n",
    "So the recommendation is to only use the new page going forward. \n",
    "\n",
    "\n",
    "\n",
    "\n",
    "*There is one assumptions that was made coming to this conclusion that I would like to take a closer look at:\n",
    "We were told that the data was randomly chosen with 50 in the control group and 50 in the treatment group. However looking at the data suggests that whoever collected the data was also given specific numbers to be collected for each language. So it is likely that the actual preferred language for the population isn't about as evenly distributed as the sample data suggests. If most of the people landing on the page choose English as the preferred language, this conclusion needs to be revisited, since it would change the conversion rates of the treatment and control groups."
   ]
  }
 ],
 "metadata": {
  "colab": {
   "collapsed_sections": [],
   "name": "ENews_Express_Learner_Notebook[Full Code Version].ipynb",
   "provenance": []
  },
  "kernelspec": {
   "display_name": "Python 3 (ipykernel)",
   "language": "python",
   "name": "python3"
  },
  "language_info": {
   "codemirror_mode": {
    "name": "ipython",
    "version": 3
   },
   "file_extension": ".py",
   "mimetype": "text/x-python",
   "name": "python",
   "nbconvert_exporter": "python",
   "pygments_lexer": "ipython3",
   "version": "3.9.7"
  }
 },
 "nbformat": 4,
 "nbformat_minor": 5
}
